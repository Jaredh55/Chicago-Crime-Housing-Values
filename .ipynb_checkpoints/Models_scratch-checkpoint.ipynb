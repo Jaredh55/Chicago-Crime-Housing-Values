{
 "cells": [
  {
   "cell_type": "markdown",
   "metadata": {},
   "source": [
    "Models"
   ]
  },
  {
   "cell_type": "markdown",
   "metadata": {},
   "source": [
    "The purpose of this section is to see just how well the the current crime rates can predict the current housing price. This is interesting mainly because I'd like to see which types of crime exert the strongest effect on housing prices."
   ]
  },
  {
   "cell_type": "code",
   "execution_count": 210,
   "metadata": {},
   "outputs": [],
   "source": [
    "import pandas as pd\n",
    "import numpy as np\n",
    "import matplotlib.pyplot as plt\n",
    "import seaborn as sns\n",
    "\n",
    "from sklearn.preprocessing import StandardScaler\n",
    "from sklearn.model_selection import train_test_split\n",
    "from sklearn.model_selection import cross_val_score, GridSearchCV\n",
    "from sklearn.ensemble import RandomForestRegressor\n",
    "from sklearn.ensemble import GradientBoostingRegressor\n",
    "from sklearn.linear_model import LinearRegression\n",
    "from sklearn.linear_model import Ridge, Lasso\n",
    "from sklearn.metrics import mean_squared_error\n",
    "from sklearn.metrics import mean_absolute_error\n",
    "\n",
    "from sklearn.neighbors import KNeighborsRegressor\n",
    "from sklearn.ensemble import VotingRegressor\n",
    "\n",
    "from hyperopt import hp, tpe, fmin, anneal, Trials\n",
    "import hpsklearn"
   ]
  },
  {
   "cell_type": "code",
   "execution_count": 285,
   "metadata": {},
   "outputs": [],
   "source": [
    "#Use pipelines"
   ]
  },
  {
   "cell_type": "code",
   "execution_count": 286,
   "metadata": {},
   "outputs": [],
   "source": [
    "model_df2 = pd.read_csv(\"model_data2.csv\")\n",
    "pd.set_option('display.max_columns', 500)"
   ]
  },
  {
   "cell_type": "code",
   "execution_count": 287,
   "metadata": {},
   "outputs": [
    {
     "data": {
      "text/plain": [
       "(12732, 79)"
      ]
     },
     "execution_count": 287,
     "metadata": {},
     "output_type": "execute_result"
    }
   ],
   "source": [
    "model_df2.shape"
   ]
  },
  {
   "cell_type": "markdown",
   "metadata": {},
   "source": [
    "Predicting current housing value based on current crime rates"
   ]
  },
  {
   "cell_type": "code",
   "execution_count": 274,
   "metadata": {},
   "outputs": [],
   "source": [
    "#Target Column\n",
    "# target_column = 'MHV'\n",
    "target_column = 'MHV ADJ'\n",
    "# target_column = 'FUTURE MHV ADJ'\n",
    "# target_column = 'FUTURE MHV'\n",
    "# target_column = 'THEFT ADJ'"
   ]
  },
  {
   "cell_type": "code",
   "execution_count": 275,
   "metadata": {},
   "outputs": [],
   "source": [
    "#Train-Test Split\n",
    "X = model_df2.loc[:,\"CRIMINAL DAMAGE ADJ\":\"DOMESTIC VIOLENCE ADJ\"]\n",
    "\n",
    "# X = model_df2.loc[:,\"CRIMINAL DAMAGE ADJ\":\"ZHVI ADJ\"]\n",
    "# X.drop(\"ZHVI\", inplace=True, axis=1)\n",
    "\n",
    "# X = model_df2.loc[:,\"CRIMINAL DAMAGE ADJ\":\"MHV\"]\n",
    "\n",
    "# X = model_df2.loc[:,[\"PREV MHV ADJ\"]]\n",
    "# X = model_df2.loc[:,[\"MHV ADJ\"]]\n",
    "\n",
    "\n",
    "y = model_df2[[target_column]]\n",
    "\n",
    "X_train, X_test, y_train, y_test = train_test_split(X, y, test_size=0.2, random_state=18)"
   ]
  },
  {
   "cell_type": "code",
   "execution_count": 190,
   "metadata": {},
   "outputs": [],
   "source": [
    "cutoff=10000\n",
    "end=11000\n",
    "X_train = X.loc[:cutoff,:]\n",
    "X_test = X.loc[cutoff:end,:]\n",
    "y_train = y.loc[:cutoff,:]\n",
    "y_test = y.loc[cutoff:end,:]"
   ]
  },
  {
   "cell_type": "code",
   "execution_count": 276,
   "metadata": {},
   "outputs": [],
   "source": [
    "#Scale Data\n",
    "scaler = StandardScaler()\n",
    "scaled_X_train = pd.DataFrame(scaler.fit_transform(X_train), columns=X_train.columns)\n",
    "scaled_X_test = pd.DataFrame(scaler.transform(X_test), columns=X_test.columns)\n",
    "scaled_X = pd.DataFrame(scaler.transform(X), columns=X.columns)"
   ]
  },
  {
   "cell_type": "code",
   "execution_count": 56,
   "metadata": {},
   "outputs": [],
   "source": [
    "#RF GridSearchCV delete\n",
    "n_estimator_space = [100, 200, 500, 700]\n",
    "max_features_space = [2, 'sqrt', 10, 20]\n",
    "criterion_space = ['mse', 'mae']\n",
    "\n",
    "param_grid = {'n_estimators': n_estimator_space,\n",
    "              'max_features': max_features_space,\n",
    "              'criterion': criterion_space}\n",
    "rf_tune = RandomForestRegressor(random_state=42)\n",
    "rf_cv = GridSearchCV(rf_tune, param_grid, cv=3, scoring=\"neg_mean_squared_error\")\n",
    "rf_cv.fit(scaled_X_train, y_train.values.ravel())\n",
    "print(rf_cv.best_params_)\n",
    "print(rf_cv.best_score_)"
   ]
  },
  {
   "cell_type": "markdown",
   "metadata": {},
   "source": [
    "Using hyperopt to tune parameters of Random Forest"
   ]
  },
  {
   "cell_type": "code",
   "execution_count": 258,
   "metadata": {},
   "outputs": [],
   "source": [
    "#Define function to minimize\n",
    "def rf_mse_cv(params, random_state=42, cv=3, X=scaled_X_train, y=y_train):\n",
    "    # the function gets a set of variable parameters in \"param\"\n",
    "    params = {'n_estimators': int(params['n_estimators']), \n",
    "              'max_features': int(params['max_features'])} \n",
    "    \n",
    "    # we use this params to create a new LGBM Regressor\n",
    "    model = RandomForestRegressor(criterion=\"mse\", random_state=42, **params)\n",
    "    \n",
    "#     rf = RandomForestRegressor(criterion='mse', random_state=42, **params)\n",
    "#     rf_model = rf.fit(scaled_X_train, y_train.values.ravel())\n",
    "#     y_pred = rf_model.predict(scaled_X_test)\n",
    "    \n",
    "    # and then conduct the cross validation with the same folds as before\n",
    "    score = -cross_val_score(model, X, y, cv=cv, scoring=\"neg_mean_squared_error\", n_jobs=-1).mean()\n",
    "\n",
    "#     score = np.sqrt(mean_squared_error(y_test, y_pred))\n",
    "\n",
    "    return score"
   ]
  },
  {
   "cell_type": "code",
   "execution_count": 259,
   "metadata": {},
   "outputs": [
    {
     "name": "stdout",
     "output_type": "stream",
     "text": [
      "100%|██████████| 10/10 [06:34<00:00, 44.89s/it, best loss: 336.8892831497742]\n",
      "CPU times: user 140 ms, sys: 195 ms, total: 336 ms\n",
      "Wall time: 6min 34s\n"
     ]
    }
   ],
   "source": [
    "%%time\n",
    "\n",
    "# possible values of parameters\n",
    "space={'n_estimators': hp.uniform('n_estimators', 10, 1500),\n",
    "       'max_features' : hp.uniform('max_features', 2, 30)\n",
    "      }\n",
    "\n",
    "# trials will contain logging information\n",
    "trials = Trials()\n",
    "\n",
    "best=fmin(fn=rf_mse_cv, # function to optimize\n",
    "          space=space, \n",
    "          algo=tpe.suggest, # optimization algorithm, hyperotp will select its parameters automatically\n",
    "          max_evals=10, # maximum number of iterations\n",
    "          trials=trials, # logging\n",
    "          rstate=np.random.RandomState(42) # fixing random state for the reproducibility\n",
    "         )"
   ]
  },
  {
   "cell_type": "code",
   "execution_count": 260,
   "metadata": {},
   "outputs": [
    {
     "data": {
      "text/plain": [
       "{'max_features': 21.617400449398247, 'n_estimators': 1433.6621996017927}"
      ]
     },
     "execution_count": 260,
     "metadata": {},
     "output_type": "execute_result"
    }
   ],
   "source": [
    "best"
   ]
  },
  {
   "cell_type": "code",
   "execution_count": 262,
   "metadata": {},
   "outputs": [
    {
     "name": "stdout",
     "output_type": "stream",
     "text": [
      "R^2: 0.9710608240953853\n",
      "Root Mean Squared Error: 15.019187291780348\n"
     ]
    }
   ],
   "source": [
    "#Create RF model using best parameters and test\n",
    "rf = RandomForestRegressor(random_state=42,\n",
    "                           criterion=\"mse\",\n",
    "                           n_estimators=int(best['n_estimators']),\n",
    "                           max_features=int(best['max_features']))\n",
    "\n",
    "rf_model = rf.fit(scaled_X_train,y_train.values.ravel())\n",
    "y_pred = rf_model.predict(scaled_X_test)\n",
    "\n",
    "print(\"R^2: {}\".format(rf_model.score(scaled_X_test, y_test)))\n",
    "rmse = np.sqrt(mean_squared_error(y_test, y_pred))\n",
    "print(\"Root Mean Squared Error: {}\".format(rmse))"
   ]
  },
  {
   "cell_type": "code",
   "execution_count": 237,
   "metadata": {},
   "outputs": [],
   "source": [
    "#RF Regression (14 best max_features) delete\n",
    "rf = RandomForestRegressor(n_estimators = 1000,\n",
    "                            max_features=23,\n",
    "                            random_state=44,\n",
    "                            criterion=\"mse\")\n",
    "\n",
    "rf_model = rf.fit(scaled_X_train, y_train.values.ravel())\n",
    "y_pred = rf_model.predict(scaled_X_test)"
   ]
  },
  {
   "cell_type": "code",
   "execution_count": 270,
   "metadata": {},
   "outputs": [
    {
     "name": "stdout",
     "output_type": "stream",
     "text": [
      "                                 feature  importance\n",
      "11        OFFENSE INVOLVING CHILDREN ADJ    0.254353\n",
      "9                 DECEPTIVE PRACTICE ADJ    0.115295\n",
      "8                              THEFT ADJ    0.091560\n",
      "7                  WEAPONS VIOLATION ADJ    0.089229\n",
      "23                          HOMICIDE ADJ    0.059157\n",
      "10                           ASSAULT ADJ    0.037735\n",
      "1                      OTHER OFFENSE ADJ    0.037482\n",
      "14                 CRIMINAL TRESPASS ADJ    0.030624\n",
      "4                MOTOR VEHICLE THEFT ADJ    0.029278\n",
      "3                            BATTERY ADJ    0.026109\n",
      "19                      PROSTITUTION ADJ    0.026072\n",
      "6                          NARCOTICS ADJ    0.025793\n",
      "26              LIQUOR LAW VIOLATION ADJ    0.023061\n",
      "0                    CRIMINAL DAMAGE ADJ    0.017871\n",
      "2                           BURGLARY ADJ    0.017142\n",
      "5                            ROBBERY ADJ    0.016430\n",
      "13  INTERFERENCE WITH PUBLIC OFFICER ADJ    0.014889\n",
      "12               CRIM SEXUAL ASSAULT ADJ    0.012904\n",
      "15            PUBLIC PEACE VIOLATION ADJ    0.011463\n",
      "16                       SEX OFFENSE ADJ    0.010267\n"
     ]
    }
   ],
   "source": [
    "#RF Feature Importances\n",
    "feature_importances = pd.DataFrame()\n",
    "feature_importances[\"feature\"] = scaled_X_train.columns\n",
    "feature_importances[\"importance\"] = rf_model.feature_importances_\n",
    "print(feature_importances.sort_values(by='importance', ascending=False).head(20))"
   ]
  },
  {
   "cell_type": "markdown",
   "metadata": {},
   "source": [
    "Using hyperopt for Gradient Boosting Regression"
   ]
  },
  {
   "cell_type": "code",
   "execution_count": 263,
   "metadata": {},
   "outputs": [],
   "source": [
    "#Define function to minimize\n",
    "def gb_mse_cv(params, random_state=42, cv=3, X=scaled_X_train, y=y_train):\n",
    "    # the function gets a set of variable parameters in \"param\"\n",
    "    params = {'n_estimators': int(params['n_estimators']), \n",
    "              'max_features': int(params['max_features']), \n",
    "             'learning_rate': params['learning_rate']}\n",
    "    \n",
    "    # we use this params to create a new LGBM Regressor\n",
    "    model = GradientBoostingRegressor(loss='ls', random_state=42, **params)\n",
    "    \n",
    "    # and then conduct the cross validation with the same folds as before\n",
    "    score = -cross_val_score(model, X, y, cv=cv, scoring=\"neg_mean_squared_error\", n_jobs=-1).mean()\n",
    "\n",
    "#     score = np.sqrt(mean_squared_error(y_test, y_pred))\n",
    "\n",
    "    return score"
   ]
  },
  {
   "cell_type": "code",
   "execution_count": 265,
   "metadata": {},
   "outputs": [
    {
     "name": "stdout",
     "output_type": "stream",
     "text": [
      "100%|██████████| 10/10 [09:22<00:00, 58.48s/it, best loss: 287.23414842785763]\n",
      "CPU times: user 153 ms, sys: 260 ms, total: 413 ms\n",
      "Wall time: 9min 22s\n"
     ]
    }
   ],
   "source": [
    "%%time\n",
    "\n",
    "# possible values of parameters\n",
    "space={'n_estimators': hp.uniform('n_estimators', 10, 10000),\n",
    "       'max_features' : hp.uniform('max_features', 2, 35),\n",
    "       'learning_rate': hp.uniform('learning_rate', 0.01, 0.99)\n",
    "      }\n",
    "\n",
    "# trials will contain logging information\n",
    "trials = Trials()\n",
    "\n",
    "best=fmin(fn=gb_mse_cv, # function to optimize\n",
    "          space=space, \n",
    "          algo=tpe.suggest, # optimization algorithm, hyperotp will select its parameters automatically\n",
    "          max_evals=10, # maximum number of iterations\n",
    "          trials=trials, # logging\n",
    "          rstate=np.random.RandomState(42) # fixing random state for the reproducibility\n",
    "         )"
   ]
  },
  {
   "cell_type": "code",
   "execution_count": 266,
   "metadata": {},
   "outputs": [
    {
     "data": {
      "text/plain": [
       "{'learning_rate': 0.11276197538164948,\n",
       " 'max_features': 32.31784321508944,\n",
       " 'n_estimators': 4453.876797888506}"
      ]
     },
     "execution_count": 266,
     "metadata": {},
     "output_type": "execute_result"
    }
   ],
   "source": [
    "best"
   ]
  },
  {
   "cell_type": "code",
   "execution_count": 268,
   "metadata": {},
   "outputs": [
    {
     "name": "stdout",
     "output_type": "stream",
     "text": [
      "R^2: 0.9745518028036164\n",
      "Root Mean Squared Error: 14.084189635027736\n"
     ]
    }
   ],
   "source": [
    "#Create GB model using best parameters and test\n",
    "gb = GradientBoostingRegressor(random_state=42, \n",
    "                               n_estimators=int(best['n_estimators']),\n",
    "                               max_features=int(best['max_features']),\n",
    "                               learning_rate=best['learning_rate'])\n",
    "\n",
    "gb_model = gb.fit(scaled_X_train, y_train.values.ravel())\n",
    "y_pred = gb_model.predict(scaled_X_test)\n",
    "\n",
    "print(\"R^2: {}\".format(gb_model.score(scaled_X_test, y_test)))\n",
    "rmse = np.sqrt(mean_squared_error(y_test, y_pred))\n",
    "print(\"Root Mean Squared Error: {}\".format(rmse))"
   ]
  },
  {
   "cell_type": "code",
   "execution_count": 269,
   "metadata": {},
   "outputs": [
    {
     "name": "stdout",
     "output_type": "stream",
     "text": [
      "                           feature  importance\n",
      "11  OFFENSE INVOLVING CHILDREN ADJ    0.309454\n",
      "9           DECEPTIVE PRACTICE ADJ    0.128464\n",
      "8                        THEFT ADJ    0.096319\n",
      "7            WEAPONS VIOLATION ADJ    0.078450\n",
      "23                    HOMICIDE ADJ    0.048303\n",
      "1                OTHER OFFENSE ADJ    0.040451\n",
      "4          MOTOR VEHICLE THEFT ADJ    0.031124\n",
      "26        LIQUOR LAW VIOLATION ADJ    0.027115\n",
      "6                    NARCOTICS ADJ    0.024668\n",
      "19                PROSTITUTION ADJ    0.023001\n",
      "14           CRIMINAL TRESPASS ADJ    0.021965\n",
      "24                  KIDNAPPING ADJ    0.019566\n",
      "5                      ROBBERY ADJ    0.016544\n",
      "3                      BATTERY ADJ    0.016277\n",
      "10                     ASSAULT ADJ    0.013501\n",
      "17                INTIMIDATION ADJ    0.013062\n",
      "0              CRIMINAL DAMAGE ADJ    0.012359\n",
      "2                     BURGLARY ADJ    0.010873\n",
      "25                    GAMBLING ADJ    0.010572\n",
      "15      PUBLIC PEACE VIOLATION ADJ    0.010276\n"
     ]
    }
   ],
   "source": [
    "#GB Feature Importances\n",
    "feature_importances = pd.DataFrame()\n",
    "feature_importances[\"feature\"] = scaled_X_train.columns\n",
    "feature_importances[\"importance\"] = gb_model.feature_importances_\n",
    "print(feature_importances.sort_values(by='importance', ascending=False).head(20))"
   ]
  },
  {
   "cell_type": "markdown",
   "metadata": {},
   "source": [
    "Out of curiosity, let's see how a simple linear and KNN model perform"
   ]
  },
  {
   "cell_type": "code",
   "execution_count": 271,
   "metadata": {},
   "outputs": [
    {
     "name": "stdout",
     "output_type": "stream",
     "text": [
      "R^2: 0.9917673496306589\n",
      "Root Mean Squared Error: 8.010750197300672\n"
     ]
    }
   ],
   "source": [
    "#KNN Regression\n",
    "knn = KNeighborsRegressor(n_neighbors = 1)\n",
    "\n",
    "knn_model = knn.fit(scaled_X_train, y_train.values.ravel())\n",
    "y_pred = knn_model.predict(scaled_X_test)\n",
    "\n",
    "print(\"R^2: {}\".format(knn_model.score(scaled_X_test, y_test)))\n",
    "rmse = np.sqrt(mean_squared_error(y_test, y_pred))\n",
    "print(\"Root Mean Squared Error: {}\".format(rmse))"
   ]
  },
  {
   "cell_type": "code",
   "execution_count": 272,
   "metadata": {},
   "outputs": [
    {
     "name": "stdout",
     "output_type": "stream",
     "text": [
      "R^2: 0.5900343827630077\n",
      "Root Mean Squared Error: 56.52975077525151\n"
     ]
    }
   ],
   "source": [
    "#Linear Regression\n",
    "lr = LinearRegression()\n",
    "lr_model = lr.fit(scaled_X_train, y_train.values.ravel())\n",
    "y_pred = lr_model.predict(scaled_X_test)\n",
    "\n",
    "print(\"R^2: {}\".format(lr_model.score(scaled_X_test, y_test)))\n",
    "rmse = np.sqrt(mean_squared_error(y_test, y_pred))\n",
    "print(\"Root Mean Squared Error: {}\".format(rmse))"
   ]
  },
  {
   "cell_type": "markdown",
   "metadata": {},
   "source": [
    "Rather unsurprisingly, the out-of-the-box linear model does not perform well. However surprisingly the KNN model outperforms the RF and GB models"
   ]
  },
  {
   "cell_type": "code",
   "execution_count": 273,
   "metadata": {},
   "outputs": [
    {
     "name": "stdout",
     "output_type": "stream",
     "text": [
      "R^2: 0.9884490804164828\n",
      "Root Mean Squared Error: 9.488807439652255\n"
     ]
    }
   ],
   "source": [
    "#Voting Regressor\n",
    "vr = VotingRegressor(estimators=[('rf', rf), ('knn', knn), ('gb',gb)])\n",
    "vr_model = vr.fit(scaled_X_train, y_train.values.ravel())\n",
    "y_pred = vr_model.predict(scaled_X_test)\n",
    "\n",
    "print(\"R^2: {}\".format(vr_model.score(scaled_X_test, y_test)))\n",
    "rmse = np.sqrt(mean_squared_error(y_test, y_pred))\n",
    "print(\"Root Mean Squared Error: {}\".format(rmse))"
   ]
  },
  {
   "cell_type": "markdown",
   "metadata": {},
   "source": [
    "Yet again the simple KNN model appears to outperform even the ensemble voting model"
   ]
  },
  {
   "cell_type": "markdown",
   "metadata": {},
   "source": [
    "Out of curiosity, let's see how the models perform on the the adjusted housing value (ie the difference in median housing value from the Chicago average). I have rerun the preprocessing steps this time setting \"MHV ADJ\" as the target. For simplicities sake, I will just borrow the tuned parameters from the previous models."
   ]
  },
  {
   "cell_type": "code",
   "execution_count": 277,
   "metadata": {},
   "outputs": [
    {
     "name": "stdout",
     "output_type": "stream",
     "text": [
      "R^2: 0.9740762172521555\n",
      "Root Mean Squared Error: 13.821385655337439\n"
     ]
    }
   ],
   "source": [
    "#RF model on adjusted housing value\n",
    "rf = RandomForestRegressor(random_state=42,\n",
    "                           criterion=\"mse\",\n",
    "                           n_estimators=1434,\n",
    "                           max_features=22)\n",
    "\n",
    "rf_model = rf.fit(scaled_X_train,y_train.values.ravel())\n",
    "y_pred = rf_model.predict(scaled_X_test)\n",
    "\n",
    "print(\"R^2: {}\".format(rf_model.score(scaled_X_test, y_test)))\n",
    "rmse = np.sqrt(mean_squared_error(y_test, y_pred))\n",
    "print(\"Root Mean Squared Error: {}\".format(rmse))"
   ]
  },
  {
   "cell_type": "code",
   "execution_count": 278,
   "metadata": {},
   "outputs": [
    {
     "name": "stdout",
     "output_type": "stream",
     "text": [
      "R^2: 0.9792239853808397\n",
      "Root Mean Squared Error: 12.373242358449236\n"
     ]
    }
   ],
   "source": [
    "#GB model on adjusted housing value\n",
    "gb = GradientBoostingRegressor(random_state=42, \n",
    "                               n_estimators=4454,\n",
    "                               max_features=32,\n",
    "                               learning_rate=0.11)\n",
    "\n",
    "gb_model = gb.fit(scaled_X_train, y_train.values.ravel())\n",
    "y_pred = gb_model.predict(scaled_X_test)\n",
    "\n",
    "print(\"R^2: {}\".format(gb_model.score(scaled_X_test, y_test)))\n",
    "rmse = np.sqrt(mean_squared_error(y_test, y_pred))\n",
    "print(\"Root Mean Squared Error: {}\".format(rmse))"
   ]
  },
  {
   "cell_type": "code",
   "execution_count": 279,
   "metadata": {},
   "outputs": [
    {
     "name": "stdout",
     "output_type": "stream",
     "text": [
      "R^2: 0.9922907639345195\n",
      "Root Mean Squared Error: 7.537165833858637\n"
     ]
    }
   ],
   "source": [
    "#KNN model on adjusted housing value\n",
    "knn = KNeighborsRegressor(n_neighbors = 1)\n",
    "\n",
    "knn_model = knn.fit(scaled_X_train, y_train.values.ravel())\n",
    "y_pred = knn_model.predict(scaled_X_test)\n",
    "\n",
    "print(\"R^2: {}\".format(knn_model.score(scaled_X_test, y_test)))\n",
    "rmse = np.sqrt(mean_squared_error(y_test, y_pred))\n",
    "print(\"Root Mean Squared Error: {}\".format(rmse))"
   ]
  },
  {
   "cell_type": "code",
   "execution_count": 280,
   "metadata": {},
   "outputs": [
    {
     "name": "stdout",
     "output_type": "stream",
     "text": [
      "R^2: 0.6757859872121329\n",
      "Root Mean Squared Error: 48.87854722838262\n"
     ]
    }
   ],
   "source": [
    "#LR model on adjusted housing value\n",
    "lr = LinearRegression()\n",
    "lr_model = lr.fit(scaled_X_train, y_train.values.ravel())\n",
    "y_pred = lr_model.predict(scaled_X_test)\n",
    "\n",
    "print(\"R^2: {}\".format(lr_model.score(scaled_X_test, y_test)))\n",
    "rmse = np.sqrt(mean_squared_error(y_test, y_pred))\n",
    "print(\"Root Mean Squared Error: {}\".format(rmse))"
   ]
  },
  {
   "cell_type": "code",
   "execution_count": 281,
   "metadata": {},
   "outputs": [
    {
     "name": "stdout",
     "output_type": "stream",
     "text": [
      "R^2: 0.9898990444978951\n",
      "Root Mean Squared Error: 8.627473371256347\n"
     ]
    }
   ],
   "source": [
    "#Voting Regressor\n",
    "vr = VotingRegressor(estimators=[('rf', rf), ('knn', knn), ('gb',gb)])\n",
    "vr_model = vr.fit(scaled_X_train, y_train.values.ravel())\n",
    "y_pred = vr_model.predict(scaled_X_test)\n",
    "\n",
    "print(\"R^2: {}\".format(vr_model.score(scaled_X_test, y_test)))\n",
    "rmse = np.sqrt(mean_squared_error(y_test, y_pred))\n",
    "print(\"Root Mean Squared Error: {}\".format(rmse))"
   ]
  },
  {
   "cell_type": "markdown",
   "metadata": {},
   "source": [
    "Interestingly, each model appears to perform slightly better than it's non-adjusted counterpart, although not significantly. This indicates to me that the effects of crime are still more predictive than broad effects such as inflation and housing crises."
   ]
  },
  {
   "cell_type": "code",
   "execution_count": null,
   "metadata": {},
   "outputs": [],
   "source": []
  },
  {
   "cell_type": "code",
   "execution_count": null,
   "metadata": {},
   "outputs": [],
   "source": []
  },
  {
   "cell_type": "code",
   "execution_count": null,
   "metadata": {},
   "outputs": [],
   "source": []
  },
  {
   "cell_type": "code",
   "execution_count": null,
   "metadata": {},
   "outputs": [],
   "source": []
  },
  {
   "cell_type": "code",
   "execution_count": null,
   "metadata": {},
   "outputs": [],
   "source": []
  },
  {
   "cell_type": "code",
   "execution_count": null,
   "metadata": {},
   "outputs": [],
   "source": []
  },
  {
   "cell_type": "code",
   "execution_count": null,
   "metadata": {},
   "outputs": [],
   "source": []
  },
  {
   "cell_type": "code",
   "execution_count": 194,
   "metadata": {},
   "outputs": [
    {
     "data": {
      "text/html": [
       "<div>\n",
       "<style scoped>\n",
       "    .dataframe tbody tr th:only-of-type {\n",
       "        vertical-align: middle;\n",
       "    }\n",
       "\n",
       "    .dataframe tbody tr th {\n",
       "        vertical-align: top;\n",
       "    }\n",
       "\n",
       "    .dataframe thead th {\n",
       "        text-align: right;\n",
       "    }\n",
       "</style>\n",
       "<table border=\"1\" class=\"dataframe\">\n",
       "  <thead>\n",
       "    <tr style=\"text-align: right;\">\n",
       "      <th></th>\n",
       "      <th>FUTURE ZHVI</th>\n",
       "      <th>Pred</th>\n",
       "      <th>ZHVI</th>\n",
       "      <th>pred hi low</th>\n",
       "      <th>real hi low</th>\n",
       "      <th>yesno</th>\n",
       "      <th>real dif</th>\n",
       "      <th>pred dif</th>\n",
       "      <th>ae</th>\n",
       "    </tr>\n",
       "  </thead>\n",
       "  <tbody>\n",
       "    <tr>\n",
       "      <th>count</th>\n",
       "      <td>1001.000000</td>\n",
       "      <td>1001.000000</td>\n",
       "      <td>1001.000000</td>\n",
       "      <td>1001.000000</td>\n",
       "      <td>1001.00000</td>\n",
       "      <td>1001.000000</td>\n",
       "      <td>1001.000000</td>\n",
       "      <td>1001.000000</td>\n",
       "      <td>1001.000000</td>\n",
       "    </tr>\n",
       "    <tr>\n",
       "      <th>mean</th>\n",
       "      <td>151.731269</td>\n",
       "      <td>152.521126</td>\n",
       "      <td>151.634366</td>\n",
       "      <td>0.663337</td>\n",
       "      <td>0.51049</td>\n",
       "      <td>0.597403</td>\n",
       "      <td>1.448551</td>\n",
       "      <td>1.354869</td>\n",
       "      <td>1.948755</td>\n",
       "    </tr>\n",
       "    <tr>\n",
       "      <th>std</th>\n",
       "      <td>45.132978</td>\n",
       "      <td>44.040747</td>\n",
       "      <td>45.165719</td>\n",
       "      <td>0.472805</td>\n",
       "      <td>0.50014</td>\n",
       "      <td>0.490666</td>\n",
       "      <td>1.339067</td>\n",
       "      <td>2.060357</td>\n",
       "      <td>2.246580</td>\n",
       "    </tr>\n",
       "    <tr>\n",
       "      <th>min</th>\n",
       "      <td>65.000000</td>\n",
       "      <td>78.504667</td>\n",
       "      <td>65.000000</td>\n",
       "      <td>0.000000</td>\n",
       "      <td>0.00000</td>\n",
       "      <td>0.000000</td>\n",
       "      <td>0.000000</td>\n",
       "      <td>0.007667</td>\n",
       "      <td>0.007867</td>\n",
       "    </tr>\n",
       "    <tr>\n",
       "      <th>25%</th>\n",
       "      <td>121.000000</td>\n",
       "      <td>120.904000</td>\n",
       "      <td>121.000000</td>\n",
       "      <td>0.000000</td>\n",
       "      <td>0.00000</td>\n",
       "      <td>0.000000</td>\n",
       "      <td>1.000000</td>\n",
       "      <td>0.354983</td>\n",
       "      <td>0.637350</td>\n",
       "    </tr>\n",
       "    <tr>\n",
       "      <th>50%</th>\n",
       "      <td>148.000000</td>\n",
       "      <td>147.696433</td>\n",
       "      <td>148.000000</td>\n",
       "      <td>1.000000</td>\n",
       "      <td>1.00000</td>\n",
       "      <td>1.000000</td>\n",
       "      <td>1.000000</td>\n",
       "      <td>0.795533</td>\n",
       "      <td>1.415167</td>\n",
       "    </tr>\n",
       "    <tr>\n",
       "      <th>75%</th>\n",
       "      <td>178.500000</td>\n",
       "      <td>178.804000</td>\n",
       "      <td>178.500000</td>\n",
       "      <td>1.000000</td>\n",
       "      <td>1.00000</td>\n",
       "      <td>1.000000</td>\n",
       "      <td>2.000000</td>\n",
       "      <td>1.464700</td>\n",
       "      <td>2.412333</td>\n",
       "    </tr>\n",
       "    <tr>\n",
       "      <th>max</th>\n",
       "      <td>251.000000</td>\n",
       "      <td>250.251800</td>\n",
       "      <td>251.000000</td>\n",
       "      <td>1.000000</td>\n",
       "      <td>1.00000</td>\n",
       "      <td>1.000000</td>\n",
       "      <td>22.500000</td>\n",
       "      <td>16.692500</td>\n",
       "      <td>22.966300</td>\n",
       "    </tr>\n",
       "  </tbody>\n",
       "</table>\n",
       "</div>"
      ],
      "text/plain": [
       "       FUTURE ZHVI         Pred         ZHVI  pred hi low  real hi low  \\\n",
       "count  1001.000000  1001.000000  1001.000000  1001.000000   1001.00000   \n",
       "mean    151.731269   152.521126   151.634366     0.663337      0.51049   \n",
       "std      45.132978    44.040747    45.165719     0.472805      0.50014   \n",
       "min      65.000000    78.504667    65.000000     0.000000      0.00000   \n",
       "25%     121.000000   120.904000   121.000000     0.000000      0.00000   \n",
       "50%     148.000000   147.696433   148.000000     1.000000      1.00000   \n",
       "75%     178.500000   178.804000   178.500000     1.000000      1.00000   \n",
       "max     251.000000   250.251800   251.000000     1.000000      1.00000   \n",
       "\n",
       "             yesno     real dif     pred dif           ae  \n",
       "count  1001.000000  1001.000000  1001.000000  1001.000000  \n",
       "mean      0.597403     1.448551     1.354869     1.948755  \n",
       "std       0.490666     1.339067     2.060357     2.246580  \n",
       "min       0.000000     0.000000     0.007667     0.007867  \n",
       "25%       0.000000     1.000000     0.354983     0.637350  \n",
       "50%       1.000000     1.000000     0.795533     1.415167  \n",
       "75%       1.000000     2.000000     1.464700     2.412333  \n",
       "max       1.000000    22.500000    16.692500    22.966300  "
      ]
     },
     "execution_count": 194,
     "metadata": {},
     "output_type": "execute_result"
    }
   ],
   "source": [
    "results_df = y_test.copy()\n",
    "results_df[\"Pred\"] = y_pred\n",
    "results_df[\"ZHVI\"] = model_df2.loc[list(y_test.index),\"ZHVI\"]\n",
    "results_df[\"pred hi low\"] = results_df.apply(lambda row: 1 if row[\"Pred\"] > row[\"ZHVI\"] else 0, axis=1)\n",
    "results_df[\"real hi low\"] = results_df.apply(lambda row: 1 if row[\"FUTURE ZHVI\"] > row[\"ZHVI\"] else 0, axis=1)\n",
    "results_df[\"yesno\"] = results_df.apply(lambda row: 1 if row[\"pred hi low\"] == row[\"real hi low\"] else 0, axis=1)\n",
    "results_df[\"real dif\"] = abs(results_df[\"FUTURE ZHVI\"] - results_df[\"ZHVI\"])\n",
    "results_df[\"pred dif\"] = abs(results_df[\"Pred\"] - results_df[\"ZHVI\"])\n",
    "results_df[\"ae\"] = abs(results_df[\"Pred\"] - results_df[\"FUTURE ZHVI\"])\n",
    "\n",
    "\n",
    "\n",
    "\n",
    "# results_df.describe()\n",
    "results_df.loc[results_df[\"pred dif\"] > 0.0].describe()"
   ]
  },
  {
   "cell_type": "code",
   "execution_count": 115,
   "metadata": {},
   "outputs": [],
   "source": [
    "# results_df = y_test.copy()\n",
    "# results_df[\"Pred\"] = y_pred\n",
    "# results_df[\"ZHVI ADJ\"] = model_df2.loc[list(y_test.index),\"ZHVI ADJ\"]\n",
    "# results_df[\"pred hi low\"] = results_df.apply(lambda row: 1 if row[\"Pred\"] > row[\"ZHVI ADJ\"] else 0, axis=1)\n",
    "# results_df[\"real hi low\"] = results_df.apply(lambda row: 1 if row[\"FUTURE ZHVI ADJ\"] > row[\"ZHVI ADJ\"] else 0, axis=1)\n",
    "# results_df[\"yesno\"] = results_df.apply(lambda row: 1 if row[\"pred hi low\"] == row[\"real hi low\"] else 0, axis=1)\n",
    "# results_df[\"real dif\"] = abs(results_df[\"FUTURE ZHVI ADJ\"] - results_df[\"ZHVI ADJ\"])\n",
    "# results_df[\"pred dif\"] = abs(results_df[\"Pred\"] - results_df[\"ZHVI ADJ\"])\n",
    "# results_df[\"ae\"] = abs(results_df[\"Pred\"] - results_df[\"FUTURE ZHVI ADJ\"])\n",
    "\n",
    "\n",
    "\n",
    "\n",
    "# # results_df.describe()\n",
    "# results_df.loc[results_df[\"pred dif\"] > 0.0].describe()"
   ]
  },
  {
   "cell_type": "code",
   "execution_count": 104,
   "metadata": {},
   "outputs": [
    {
     "data": {
      "text/plain": [
       "<matplotlib.axes._subplots.AxesSubplot at 0x1a3b3c3b70>"
      ]
     },
     "execution_count": 104,
     "metadata": {},
     "output_type": "execute_result"
    },
    {
     "data": {
      "image/png": "[encoded data removed]",
      "text/plain": [
       "<Figure size 432x288 with 1 Axes>"
      ]
     },
     "metadata": {
      "needs_background": "light"
     },
     "output_type": "display_data"
    }
   ],
   "source": [
    "results_df[\"real dif\"].plot(kind=\"hist\", bins=100, alpha=0.5)\n",
    "# results_df[\"pred dif\"].plot(kind=\"hist\", bins=100, alpha=0.5)\n",
    "results_df[\"ae\"].plot(kind=\"hist\", bins=100, alpha=0.5)"
   ]
  },
  {
   "cell_type": "code",
   "execution_count": 109,
   "metadata": {},
   "outputs": [
    {
     "name": "stdout",
     "output_type": "stream",
     "text": [
      "Mean Absolute Error: 1.528131894106524\n",
      "Root Mean Squared Error: 1.9469047243169895\n"
     ]
    }
   ],
   "source": [
    "#Baseline\n",
    "mae = mean_absolute_error(model_df2[\"FUTURE ZHVI\"], model_df2[\"ZHVI\"])\n",
    "print(\"Mean Absolute Error: {}\".format(mae))\n",
    "rmse = np.sqrt(mean_squared_error(model_df2[\"FUTURE ZHVI\"], model_df2[\"ZHVI\"]))\n",
    "print(\"Root Mean Squared Error: {}\".format(rmse))"
   ]
  },
  {
   "cell_type": "code",
   "execution_count": null,
   "metadata": {},
   "outputs": [],
   "source": []
  },
  {
   "cell_type": "code",
   "execution_count": null,
   "metadata": {},
   "outputs": [],
   "source": []
  },
  {
   "cell_type": "code",
   "execution_count": 256,
   "metadata": {},
   "outputs": [],
   "source": [
    "#Linear Regression\n",
    "lr = LinearRegression()\n",
    "lr_model = lr.fit(scaled_X_train, y_train.values.ravel())\n",
    "y_pred = lr_model.predict(scaled_X_test)"
   ]
  },
  {
   "cell_type": "code",
   "execution_count": 257,
   "metadata": {},
   "outputs": [
    {
     "name": "stdout",
     "output_type": "stream",
     "text": [
      "R^2: 0.5900343827630077\n",
      "Root Mean Squared Error: 56.52975077525151\n"
     ]
    }
   ],
   "source": [
    "print(\"R^2: {}\".format(lr_model.score(scaled_X_test, y_test)))\n",
    "rmse = np.sqrt(mean_squared_error(y_test, y_pred))\n",
    "print(\"Root Mean Squared Error: {}\".format(rmse))"
   ]
  },
  {
   "cell_type": "code",
   "execution_count": 246,
   "metadata": {},
   "outputs": [],
   "source": [
    "#Ridge\n",
    "lrr = Ridge(alpha=0.0001)\n",
    "lrr_model = lrr.fit(scaled_X_train, y_train.values.ravel())\n",
    "y_pred = lrr_model.predict(scaled_X_test)"
   ]
  },
  {
   "cell_type": "code",
   "execution_count": 247,
   "metadata": {},
   "outputs": [
    {
     "name": "stdout",
     "output_type": "stream",
     "text": [
      "R^2: 0.5900343815484659\n",
      "Root Mean Squared Error: 56.5297508589875\n"
     ]
    }
   ],
   "source": [
    "print(\"R^2: {}\".format(lrr_model.score(scaled_X_test, y_test)))\n",
    "rmse = np.sqrt(mean_squared_error(y_test, y_pred))\n",
    "print(\"Root Mean Squared Error: {}\".format(rmse))"
   ]
  },
  {
   "cell_type": "code",
   "execution_count": 328,
   "metadata": {},
   "outputs": [
    {
     "data": {
      "image/png": "[encoded data removed]",
      "text/plain": [
       "<Figure size 432x288 with 1 Axes>"
      ]
     },
     "metadata": {
      "needs_background": "light"
     },
     "output_type": "display_data"
    }
   ],
   "source": [
    "plt.plot(range(len(X.columns)), lrr_model.coef_)\n",
    "plt.xticks(range(len(X.columns)), X.columns.values, rotation=90)\n",
    "plt.margins(0.02)\n",
    "plt.show()"
   ]
  },
  {
   "cell_type": "code",
   "execution_count": 98,
   "metadata": {},
   "outputs": [],
   "source": [
    "#Lasso\n",
    "lrl = Lasso(alpha=0.01)\n",
    "lrl_model = lrl.fit(scaled_X_train, y_train.values.ravel())\n",
    "y_pred = lrl_model.predict(scaled_X_test)"
   ]
  },
  {
   "cell_type": "code",
   "execution_count": 99,
   "metadata": {},
   "outputs": [
    {
     "name": "stdout",
     "output_type": "stream",
     "text": [
      "R^2: 0.9997606506733043\n",
      "Root Mean Squared Error: 1.3356620865515767\n"
     ]
    }
   ],
   "source": [
    "print(\"R^2: {}\".format(lrl_model.score(scaled_X_test, y_test)))\n",
    "rmse = np.sqrt(mean_squared_error(y_test, y_pred))\n",
    "print(\"Root Mean Squared Error: {}\".format(rmse))"
   ]
  },
  {
   "cell_type": "code",
   "execution_count": 100,
   "metadata": {},
   "outputs": [
    {
     "data": {
      "image/png": "[encoded data removed]",
      "text/plain": [
       "<Figure size 432x288 with 1 Axes>"
      ]
     },
     "metadata": {
      "needs_background": "light"
     },
     "output_type": "display_data"
    }
   ],
   "source": [
    "plt.plot(range(len(X.columns)), lrl_model.coef_)\n",
    "plt.xticks(range(len(X.columns)), X.columns.values, rotation=90)\n",
    "plt.margins(0.02)\n",
    "plt.show()"
   ]
  },
  {
   "cell_type": "code",
   "execution_count": null,
   "metadata": {},
   "outputs": [],
   "source": [
    "#Cross validation linear model\n",
    "cross_val_score(vc_model, X, y.values.ravel(), cv=5)"
   ]
  },
  {
   "cell_type": "code",
   "execution_count": 430,
   "metadata": {},
   "outputs": [
    {
     "data": {
      "text/plain": [
       "64"
      ]
     },
     "execution_count": 430,
     "metadata": {},
     "output_type": "execute_result"
    }
   ],
   "source": [
    "len(list(model_df2[\"Community Area\"].unique()))"
   ]
  },
  {
   "cell_type": "code",
   "execution_count": 10,
   "metadata": {},
   "outputs": [],
   "source": []
  },
  {
   "cell_type": "code",
   "execution_count": 254,
   "metadata": {},
   "outputs": [],
   "source": [
    "#KNN Regression\n",
    "knn = KNeighborsRegressor(n_neighbors = 1)\n",
    "\n",
    "knn_model = knn.fit(scaled_X_train, y_train.values.ravel())\n",
    "y_pred = knn_model.predict(scaled_X_test)"
   ]
  },
  {
   "cell_type": "code",
   "execution_count": 255,
   "metadata": {},
   "outputs": [
    {
     "name": "stdout",
     "output_type": "stream",
     "text": [
      "R^2: 0.9917673496306589\n",
      "Root Mean Squared Error: 8.010750197300672\n"
     ]
    }
   ],
   "source": [
    "print(\"R^2: {}\".format(knn_model.score(scaled_X_test, y_test)))\n",
    "rmse = np.sqrt(mean_squared_error(y_test, y_pred))\n",
    "print(\"Root Mean Squared Error: {}\".format(rmse))"
   ]
  },
  {
   "cell_type": "code",
   "execution_count": 8,
   "metadata": {},
   "outputs": [],
   "source": []
  },
  {
   "cell_type": "code",
   "execution_count": 169,
   "metadata": {},
   "outputs": [],
   "source": [
    "#Voting Regressor\n",
    "vc = VotingRegressor(estimators=[('rf', rf), ('lrr', lrr), ('gb',gb)])\n",
    "vc_model = vc.fit(scaled_X_train, y_train.values.ravel())\n",
    "y_pred = vc.predict(scaled_X_test)"
   ]
  },
  {
   "cell_type": "code",
   "execution_count": 68,
   "metadata": {},
   "outputs": [],
   "source": [
    "y_pred = vc.predict(scaled_X_test)"
   ]
  },
  {
   "cell_type": "code",
   "execution_count": 170,
   "metadata": {},
   "outputs": [
    {
     "name": "stdout",
     "output_type": "stream",
     "text": [
      "R^2: 0.9991805712652839\n",
      "Root Mean Squared Error: 1.7754088831659958\n"
     ]
    }
   ],
   "source": [
    "print(\"R^2: {}\".format(vc_model.score(scaled_X_test, y_test)))\n",
    "rmse = np.sqrt(mean_squared_error(y_test, y_pred))\n",
    "print(\"Root Mean Squared Error: {}\".format(rmse))"
   ]
  },
  {
   "cell_type": "code",
   "execution_count": null,
   "metadata": {},
   "outputs": [],
   "source": []
  }
 ],
 "metadata": {
  "kernelspec": {
   "display_name": "Python 3",
   "language": "python",
   "name": "python3"
  },
  "language_info": {
   "codemirror_mode": {
    "name": "ipython",
    "version": 3
   },
   "file_extension": ".py",
   "mimetype": "text/x-python",
   "name": "python",
   "nbconvert_exporter": "python",
   "pygments_lexer": "ipython3",
   "version": "3.7.1"
  }
 },
 "nbformat": 4,
 "nbformat_minor": 2
}

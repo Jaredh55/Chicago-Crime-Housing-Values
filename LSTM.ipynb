{
 "cells": [
  {
   "cell_type": "markdown",
   "metadata": {},
   "source": [
    "LSTM"
   ]
  },
  {
   "cell_type": "markdown",
   "metadata": {},
   "source": [
    "The purpose of this section is to attempt to create a multivariate LSTM model to predict the next months housing price.\n",
    "\n",
    "Guided by tutorial https://www.tensorflow.org/tutorials/structured_data/time_series"
   ]
  },
  {
   "cell_type": "code",
   "execution_count": 1,
   "metadata": {},
   "outputs": [],
   "source": [
    "import tensorflow as tf\n",
    "tf.enable_eager_execution()\n",
    "\n",
    "import numpy as np\n",
    "import pandas as pd\n",
    "import matplotlib.pyplot as plt\n",
    "\n",
    "from sklearn.metrics import mean_squared_error\n",
    "from sklearn.metrics import mean_absolute_error"
   ]
  },
  {
   "cell_type": "code",
   "execution_count": 89,
   "metadata": {},
   "outputs": [],
   "source": [
    "#Read modeling data\n",
    "model_df2 = pd.read_csv(\"model_data2.csv\")\n",
    "model_df2.Month = pd.to_datetime(model_df2.Month)"
   ]
  },
  {
   "cell_type": "code",
   "execution_count": null,
   "metadata": {},
   "outputs": [],
   "source": [
    "#Create features dataframe\n",
    "features_considered = list(model_df2.loc[:,\"CRIMINAL DAMAGE ADJ\":\"NON - CRIMINAL ADJ\"].columns)\n",
    "features = model_df2.loc[:,features_considered + [\"Community Area\", \"Month\", \"MHV\"]]"
   ]
  },
  {
   "cell_type": "code",
   "execution_count": null,
   "metadata": {},
   "outputs": [],
   "source": [
    "#ID test and training indices for later standardization (dropping data before 2003 as data appears untrustworthy)\n",
    "test_indices = list(features.loc[features[\"Month\"] > \"12-2015\"].index)\n",
    "train_indices = list(features.loc[(features[\"Month\"] <= \"12-2015\") & (features[\"Month\"] >= \"1-2003\")].index)"
   ]
  },
  {
   "cell_type": "code",
   "execution_count": 8,
   "metadata": {},
   "outputs": [
    {
     "data": {
      "text/html": [
       "<div>\n",
       "<style scoped>\n",
       "    .dataframe tbody tr th:only-of-type {\n",
       "        vertical-align: middle;\n",
       "    }\n",
       "\n",
       "    .dataframe tbody tr th {\n",
       "        vertical-align: top;\n",
       "    }\n",
       "\n",
       "    .dataframe thead th {\n",
       "        text-align: right;\n",
       "    }\n",
       "</style>\n",
       "<table border=\"1\" class=\"dataframe\">\n",
       "  <thead>\n",
       "    <tr style=\"text-align: right;\">\n",
       "      <th></th>\n",
       "      <th>CRIMINAL DAMAGE ADJ</th>\n",
       "      <th>OTHER OFFENSE ADJ</th>\n",
       "      <th>BURGLARY ADJ</th>\n",
       "      <th>BATTERY ADJ</th>\n",
       "      <th>MOTOR VEHICLE THEFT ADJ</th>\n",
       "      <th>ROBBERY ADJ</th>\n",
       "      <th>NARCOTICS ADJ</th>\n",
       "      <th>WEAPONS VIOLATION ADJ</th>\n",
       "      <th>THEFT ADJ</th>\n",
       "      <th>DECEPTIVE PRACTICE ADJ</th>\n",
       "      <th>...</th>\n",
       "      <th>KIDNAPPING ADJ</th>\n",
       "      <th>GAMBLING ADJ</th>\n",
       "      <th>LIQUOR LAW VIOLATION ADJ</th>\n",
       "      <th>HUMAN TRAFFICKING ADJ</th>\n",
       "      <th>OTHER NARCOTIC VIOLATION ADJ</th>\n",
       "      <th>PUBLIC INDECENCY ADJ</th>\n",
       "      <th>NON-CRIMINAL ADJ</th>\n",
       "      <th>NON-CRIMINAL (SUBJECT SPECIFIED) ADJ</th>\n",
       "      <th>NON - CRIMINAL ADJ</th>\n",
       "      <th>MHV</th>\n",
       "    </tr>\n",
       "  </thead>\n",
       "  <tbody>\n",
       "    <tr>\n",
       "      <th>0</th>\n",
       "      <td>0.000000</td>\n",
       "      <td>0.151540</td>\n",
       "      <td>0.000000</td>\n",
       "      <td>0.151540</td>\n",
       "      <td>1.060780</td>\n",
       "      <td>0.0000</td>\n",
       "      <td>0.000000</td>\n",
       "      <td>0.0</td>\n",
       "      <td>2.879259</td>\n",
       "      <td>1.212320</td>\n",
       "      <td>...</td>\n",
       "      <td>0.0</td>\n",
       "      <td>0.0</td>\n",
       "      <td>0.00000</td>\n",
       "      <td>0.0</td>\n",
       "      <td>0.0</td>\n",
       "      <td>0.0</td>\n",
       "      <td>0.0</td>\n",
       "      <td>0.0</td>\n",
       "      <td>0.0</td>\n",
       "      <td>170.0</td>\n",
       "    </tr>\n",
       "    <tr>\n",
       "      <th>1</th>\n",
       "      <td>0.000000</td>\n",
       "      <td>0.454620</td>\n",
       "      <td>0.000000</td>\n",
       "      <td>0.303080</td>\n",
       "      <td>1.212320</td>\n",
       "      <td>0.0000</td>\n",
       "      <td>0.000000</td>\n",
       "      <td>0.0</td>\n",
       "      <td>4.091579</td>\n",
       "      <td>0.606160</td>\n",
       "      <td>...</td>\n",
       "      <td>0.0</td>\n",
       "      <td>0.0</td>\n",
       "      <td>0.00000</td>\n",
       "      <td>0.0</td>\n",
       "      <td>0.0</td>\n",
       "      <td>0.0</td>\n",
       "      <td>0.0</td>\n",
       "      <td>0.0</td>\n",
       "      <td>0.0</td>\n",
       "      <td>172.0</td>\n",
       "    </tr>\n",
       "    <tr>\n",
       "      <th>2</th>\n",
       "      <td>0.000000</td>\n",
       "      <td>0.606160</td>\n",
       "      <td>0.000000</td>\n",
       "      <td>0.303080</td>\n",
       "      <td>1.818479</td>\n",
       "      <td>0.0000</td>\n",
       "      <td>0.151540</td>\n",
       "      <td>0.0</td>\n",
       "      <td>5.000818</td>\n",
       "      <td>0.757700</td>\n",
       "      <td>...</td>\n",
       "      <td>0.0</td>\n",
       "      <td>0.0</td>\n",
       "      <td>0.00000</td>\n",
       "      <td>0.0</td>\n",
       "      <td>0.0</td>\n",
       "      <td>0.0</td>\n",
       "      <td>0.0</td>\n",
       "      <td>0.0</td>\n",
       "      <td>0.0</td>\n",
       "      <td>174.0</td>\n",
       "    </tr>\n",
       "    <tr>\n",
       "      <th>3</th>\n",
       "      <td>0.151540</td>\n",
       "      <td>1.515399</td>\n",
       "      <td>0.000000</td>\n",
       "      <td>0.303080</td>\n",
       "      <td>2.424639</td>\n",
       "      <td>0.0000</td>\n",
       "      <td>0.151540</td>\n",
       "      <td>0.0</td>\n",
       "      <td>5.606978</td>\n",
       "      <td>1.060780</td>\n",
       "      <td>...</td>\n",
       "      <td>0.0</td>\n",
       "      <td>0.0</td>\n",
       "      <td>0.15154</td>\n",
       "      <td>0.0</td>\n",
       "      <td>0.0</td>\n",
       "      <td>0.0</td>\n",
       "      <td>0.0</td>\n",
       "      <td>0.0</td>\n",
       "      <td>0.0</td>\n",
       "      <td>175.0</td>\n",
       "    </tr>\n",
       "    <tr>\n",
       "      <th>4</th>\n",
       "      <td>3.485419</td>\n",
       "      <td>4.697738</td>\n",
       "      <td>2.727719</td>\n",
       "      <td>6.213138</td>\n",
       "      <td>4.697738</td>\n",
       "      <td>0.7577</td>\n",
       "      <td>5.000818</td>\n",
       "      <td>0.0</td>\n",
       "      <td>13.790135</td>\n",
       "      <td>4.243119</td>\n",
       "      <td>...</td>\n",
       "      <td>0.0</td>\n",
       "      <td>0.0</td>\n",
       "      <td>0.45462</td>\n",
       "      <td>0.0</td>\n",
       "      <td>0.0</td>\n",
       "      <td>0.0</td>\n",
       "      <td>0.0</td>\n",
       "      <td>0.0</td>\n",
       "      <td>0.0</td>\n",
       "      <td>177.0</td>\n",
       "    </tr>\n",
       "  </tbody>\n",
       "</table>\n",
       "<p>5 rows × 34 columns</p>\n",
       "</div>"
      ],
      "text/plain": [
       "   CRIMINAL DAMAGE ADJ  OTHER OFFENSE ADJ  BURGLARY ADJ  BATTERY ADJ  \\\n",
       "0             0.000000           0.151540      0.000000     0.151540   \n",
       "1             0.000000           0.454620      0.000000     0.303080   \n",
       "2             0.000000           0.606160      0.000000     0.303080   \n",
       "3             0.151540           1.515399      0.000000     0.303080   \n",
       "4             3.485419           4.697738      2.727719     6.213138   \n",
       "\n",
       "   MOTOR VEHICLE THEFT ADJ  ROBBERY ADJ  NARCOTICS ADJ  WEAPONS VIOLATION ADJ  \\\n",
       "0                 1.060780       0.0000       0.000000                    0.0   \n",
       "1                 1.212320       0.0000       0.000000                    0.0   \n",
       "2                 1.818479       0.0000       0.151540                    0.0   \n",
       "3                 2.424639       0.0000       0.151540                    0.0   \n",
       "4                 4.697738       0.7577       5.000818                    0.0   \n",
       "\n",
       "   THEFT ADJ  DECEPTIVE PRACTICE ADJ  ...    KIDNAPPING ADJ  GAMBLING ADJ  \\\n",
       "0   2.879259                1.212320  ...               0.0           0.0   \n",
       "1   4.091579                0.606160  ...               0.0           0.0   \n",
       "2   5.000818                0.757700  ...               0.0           0.0   \n",
       "3   5.606978                1.060780  ...               0.0           0.0   \n",
       "4  13.790135                4.243119  ...               0.0           0.0   \n",
       "\n",
       "   LIQUOR LAW VIOLATION ADJ  HUMAN TRAFFICKING ADJ  \\\n",
       "0                   0.00000                    0.0   \n",
       "1                   0.00000                    0.0   \n",
       "2                   0.00000                    0.0   \n",
       "3                   0.15154                    0.0   \n",
       "4                   0.45462                    0.0   \n",
       "\n",
       "   OTHER NARCOTIC VIOLATION ADJ  PUBLIC INDECENCY ADJ  NON-CRIMINAL ADJ  \\\n",
       "0                           0.0                   0.0               0.0   \n",
       "1                           0.0                   0.0               0.0   \n",
       "2                           0.0                   0.0               0.0   \n",
       "3                           0.0                   0.0               0.0   \n",
       "4                           0.0                   0.0               0.0   \n",
       "\n",
       "   NON-CRIMINAL (SUBJECT SPECIFIED) ADJ  NON - CRIMINAL ADJ    MHV  \n",
       "0                                   0.0                 0.0  170.0  \n",
       "1                                   0.0                 0.0  172.0  \n",
       "2                                   0.0                 0.0  174.0  \n",
       "3                                   0.0                 0.0  175.0  \n",
       "4                                   0.0                 0.0  177.0  \n",
       "\n",
       "[5 rows x 34 columns]"
      ]
     },
     "execution_count": 8,
     "metadata": {},
     "output_type": "execute_result"
    }
   ],
   "source": [
    "features.drop([\"Month\",\"Community Area\"], axis=1,inplace=True)\n",
    "features.head()"
   ]
  },
  {
   "cell_type": "code",
   "execution_count": 10,
   "metadata": {},
   "outputs": [],
   "source": [
    "#Standardize Data\n",
    "dataset = features.copy()\n",
    "data_mean = dataset.loc[train_indices,:].mean(axis=0)\n",
    "data_std = dataset.loc[train_indices,:].std(axis=0)\n",
    "dataset = (dataset-data_mean)/data_std"
   ]
  },
  {
   "cell_type": "code",
   "execution_count": 11,
   "metadata": {},
   "outputs": [
    {
     "data": {
      "text/html": [
       "<div>\n",
       "<style scoped>\n",
       "    .dataframe tbody tr th:only-of-type {\n",
       "        vertical-align: middle;\n",
       "    }\n",
       "\n",
       "    .dataframe tbody tr th {\n",
       "        vertical-align: top;\n",
       "    }\n",
       "\n",
       "    .dataframe thead th {\n",
       "        text-align: right;\n",
       "    }\n",
       "</style>\n",
       "<table border=\"1\" class=\"dataframe\">\n",
       "  <thead>\n",
       "    <tr style=\"text-align: right;\">\n",
       "      <th></th>\n",
       "      <th>CRIMINAL DAMAGE ADJ</th>\n",
       "      <th>OTHER OFFENSE ADJ</th>\n",
       "      <th>BURGLARY ADJ</th>\n",
       "      <th>BATTERY ADJ</th>\n",
       "      <th>MOTOR VEHICLE THEFT ADJ</th>\n",
       "      <th>ROBBERY ADJ</th>\n",
       "      <th>NARCOTICS ADJ</th>\n",
       "      <th>WEAPONS VIOLATION ADJ</th>\n",
       "      <th>THEFT ADJ</th>\n",
       "      <th>DECEPTIVE PRACTICE ADJ</th>\n",
       "      <th>...</th>\n",
       "      <th>LIQUOR LAW VIOLATION ADJ</th>\n",
       "      <th>HUMAN TRAFFICKING ADJ</th>\n",
       "      <th>OTHER NARCOTIC VIOLATION ADJ</th>\n",
       "      <th>PUBLIC INDECENCY ADJ</th>\n",
       "      <th>NON-CRIMINAL ADJ</th>\n",
       "      <th>NON-CRIMINAL (SUBJECT SPECIFIED) ADJ</th>\n",
       "      <th>NON - CRIMINAL ADJ</th>\n",
       "      <th>MHV</th>\n",
       "      <th>Community Area</th>\n",
       "      <th>Month</th>\n",
       "    </tr>\n",
       "  </thead>\n",
       "  <tbody>\n",
       "    <tr>\n",
       "      <th>0</th>\n",
       "      <td>-2.054705</td>\n",
       "      <td>-1.388787</td>\n",
       "      <td>-1.652869</td>\n",
       "      <td>-1.218418</td>\n",
       "      <td>-1.526015</td>\n",
       "      <td>-1.105377</td>\n",
       "      <td>-0.786449</td>\n",
       "      <td>-0.989573</td>\n",
       "      <td>-1.891496</td>\n",
       "      <td>-1.739407</td>\n",
       "      <td>...</td>\n",
       "      <td>-1.230415</td>\n",
       "      <td>-0.081448</td>\n",
       "      <td>-0.207612</td>\n",
       "      <td>-0.240126</td>\n",
       "      <td>-0.124909</td>\n",
       "      <td>-0.059164</td>\n",
       "      <td>-0.105663</td>\n",
       "      <td>-0.403410</td>\n",
       "      <td>1</td>\n",
       "      <td>2001-12-01</td>\n",
       "    </tr>\n",
       "    <tr>\n",
       "      <th>1</th>\n",
       "      <td>-2.054705</td>\n",
       "      <td>-1.382829</td>\n",
       "      <td>-1.652869</td>\n",
       "      <td>-1.217397</td>\n",
       "      <td>-1.521384</td>\n",
       "      <td>-1.105377</td>\n",
       "      <td>-0.786449</td>\n",
       "      <td>-0.989573</td>\n",
       "      <td>-1.881086</td>\n",
       "      <td>-1.767638</td>\n",
       "      <td>...</td>\n",
       "      <td>-1.230415</td>\n",
       "      <td>-0.081448</td>\n",
       "      <td>-0.207612</td>\n",
       "      <td>-0.240126</td>\n",
       "      <td>-0.124909</td>\n",
       "      <td>-0.059164</td>\n",
       "      <td>-0.105663</td>\n",
       "      <td>-0.380028</td>\n",
       "      <td>1</td>\n",
       "      <td>2002-01-01</td>\n",
       "    </tr>\n",
       "    <tr>\n",
       "      <th>2</th>\n",
       "      <td>-2.054705</td>\n",
       "      <td>-1.379850</td>\n",
       "      <td>-1.652869</td>\n",
       "      <td>-1.217397</td>\n",
       "      <td>-1.502863</td>\n",
       "      <td>-1.105377</td>\n",
       "      <td>-0.785195</td>\n",
       "      <td>-0.989573</td>\n",
       "      <td>-1.873278</td>\n",
       "      <td>-1.760580</td>\n",
       "      <td>...</td>\n",
       "      <td>-1.230415</td>\n",
       "      <td>-0.081448</td>\n",
       "      <td>-0.207612</td>\n",
       "      <td>-0.240126</td>\n",
       "      <td>-0.124909</td>\n",
       "      <td>-0.059164</td>\n",
       "      <td>-0.105663</td>\n",
       "      <td>-0.356646</td>\n",
       "      <td>1</td>\n",
       "      <td>2002-02-01</td>\n",
       "    </tr>\n",
       "    <tr>\n",
       "      <th>3</th>\n",
       "      <td>-2.052286</td>\n",
       "      <td>-1.361976</td>\n",
       "      <td>-1.652869</td>\n",
       "      <td>-1.217397</td>\n",
       "      <td>-1.484341</td>\n",
       "      <td>-1.105377</td>\n",
       "      <td>-0.785195</td>\n",
       "      <td>-0.989573</td>\n",
       "      <td>-1.868072</td>\n",
       "      <td>-1.746465</td>\n",
       "      <td>...</td>\n",
       "      <td>-1.140147</td>\n",
       "      <td>-0.081448</td>\n",
       "      <td>-0.207612</td>\n",
       "      <td>-0.240126</td>\n",
       "      <td>-0.124909</td>\n",
       "      <td>-0.059164</td>\n",
       "      <td>-0.105663</td>\n",
       "      <td>-0.344956</td>\n",
       "      <td>1</td>\n",
       "      <td>2002-03-01</td>\n",
       "    </tr>\n",
       "    <tr>\n",
       "      <th>4</th>\n",
       "      <td>-1.999062</td>\n",
       "      <td>-1.299415</td>\n",
       "      <td>-1.584527</td>\n",
       "      <td>-1.177602</td>\n",
       "      <td>-1.414884</td>\n",
       "      <td>-1.082994</td>\n",
       "      <td>-0.745068</td>\n",
       "      <td>-0.989573</td>\n",
       "      <td>-1.797801</td>\n",
       "      <td>-1.598254</td>\n",
       "      <td>...</td>\n",
       "      <td>-0.959610</td>\n",
       "      <td>-0.081448</td>\n",
       "      <td>-0.207612</td>\n",
       "      <td>-0.240126</td>\n",
       "      <td>-0.124909</td>\n",
       "      <td>-0.059164</td>\n",
       "      <td>-0.105663</td>\n",
       "      <td>-0.321574</td>\n",
       "      <td>1</td>\n",
       "      <td>2002-04-01</td>\n",
       "    </tr>\n",
       "  </tbody>\n",
       "</table>\n",
       "<p>5 rows × 36 columns</p>\n",
       "</div>"
      ],
      "text/plain": [
       "   CRIMINAL DAMAGE ADJ  OTHER OFFENSE ADJ  BURGLARY ADJ  BATTERY ADJ  \\\n",
       "0            -2.054705          -1.388787     -1.652869    -1.218418   \n",
       "1            -2.054705          -1.382829     -1.652869    -1.217397   \n",
       "2            -2.054705          -1.379850     -1.652869    -1.217397   \n",
       "3            -2.052286          -1.361976     -1.652869    -1.217397   \n",
       "4            -1.999062          -1.299415     -1.584527    -1.177602   \n",
       "\n",
       "   MOTOR VEHICLE THEFT ADJ  ROBBERY ADJ  NARCOTICS ADJ  WEAPONS VIOLATION ADJ  \\\n",
       "0                -1.526015    -1.105377      -0.786449              -0.989573   \n",
       "1                -1.521384    -1.105377      -0.786449              -0.989573   \n",
       "2                -1.502863    -1.105377      -0.785195              -0.989573   \n",
       "3                -1.484341    -1.105377      -0.785195              -0.989573   \n",
       "4                -1.414884    -1.082994      -0.745068              -0.989573   \n",
       "\n",
       "   THEFT ADJ  DECEPTIVE PRACTICE ADJ    ...      LIQUOR LAW VIOLATION ADJ  \\\n",
       "0  -1.891496               -1.739407    ...                     -1.230415   \n",
       "1  -1.881086               -1.767638    ...                     -1.230415   \n",
       "2  -1.873278               -1.760580    ...                     -1.230415   \n",
       "3  -1.868072               -1.746465    ...                     -1.140147   \n",
       "4  -1.797801               -1.598254    ...                     -0.959610   \n",
       "\n",
       "   HUMAN TRAFFICKING ADJ  OTHER NARCOTIC VIOLATION ADJ  PUBLIC INDECENCY ADJ  \\\n",
       "0              -0.081448                     -0.207612             -0.240126   \n",
       "1              -0.081448                     -0.207612             -0.240126   \n",
       "2              -0.081448                     -0.207612             -0.240126   \n",
       "3              -0.081448                     -0.207612             -0.240126   \n",
       "4              -0.081448                     -0.207612             -0.240126   \n",
       "\n",
       "   NON-CRIMINAL ADJ  NON-CRIMINAL (SUBJECT SPECIFIED) ADJ  NON - CRIMINAL ADJ  \\\n",
       "0         -0.124909                             -0.059164           -0.105663   \n",
       "1         -0.124909                             -0.059164           -0.105663   \n",
       "2         -0.124909                             -0.059164           -0.105663   \n",
       "3         -0.124909                             -0.059164           -0.105663   \n",
       "4         -0.124909                             -0.059164           -0.105663   \n",
       "\n",
       "        MHV  Community Area      Month  \n",
       "0 -0.403410               1 2001-12-01  \n",
       "1 -0.380028               1 2002-01-01  \n",
       "2 -0.356646               1 2002-02-01  \n",
       "3 -0.344956               1 2002-03-01  \n",
       "4 -0.321574               1 2002-04-01  \n",
       "\n",
       "[5 rows x 36 columns]"
      ]
     },
     "execution_count": 11,
     "metadata": {},
     "output_type": "execute_result"
    }
   ],
   "source": [
    "dataset[\"Community Area\"] = model_df2[\"Community Area\"]\n",
    "dataset[\"Month\"] = model_df2[\"Month\"]\n",
    "dataset.head()"
   ]
  },
  {
   "cell_type": "code",
   "execution_count": 12,
   "metadata": {},
   "outputs": [],
   "source": [
    "#Create list of used community areas\n",
    "used_cas = list(dataset[\"Community Area\"].unique())"
   ]
  },
  {
   "cell_type": "code",
   "execution_count": 13,
   "metadata": {},
   "outputs": [],
   "source": [
    "#Construct function to format data for LSTM and split between training and test sets\n",
    "\n",
    "def create_lstm_data(dataset, target_col, start_index, end_index, history_size, target_size, step, single_step=True):\n",
    "    data = []\n",
    "    labels = []\n",
    "    \n",
    "    # Indices represent months between 12-2001 and 4-2019\n",
    "    start_index = start_index + history_size\n",
    "    if end_index is None:\n",
    "        end_index = len(dataset.Month.unique()) - target_size\n",
    "    \n",
    "    for ca in used_cas:\n",
    "        ca_data = dataset.loc[dataset[\"Community Area\"] == ca]\n",
    "        if len(ca_data) < 209:\n",
    "            continue\n",
    "    \n",
    "        ca_data.reset_index(inplace=True)\n",
    "        ca_data = ca_data.drop([\"Community Area\", \"Month\", \"index\"], axis=1)\n",
    "\n",
    "        for i in range(start_index, end_index):\n",
    "            indices = range(i-history_size, i, step)\n",
    "            new_data = ca_data.loc[indices,:].values\n",
    "            data.append(new_data)\n",
    "            \n",
    "            if single_step:\n",
    "                label_data = ca_data.loc[i+target_size,target_col]\n",
    "                labels.append(label_data)\n",
    "            else:\n",
    "                label_data = ca_data.loc[i:(i+target_size),target_col].values\n",
    "                labels.append(label_data)\n",
    "                \n",
    "    return np.array(data), np.array(labels)\n",
    "    "
   ]
  },
  {
   "cell_type": "code",
   "execution_count": 14,
   "metadata": {},
   "outputs": [],
   "source": [
    "#Create test and training data\n",
    "\n",
    "history_size = 12\n",
    "target_size = 0\n",
    "STEP = 1\n",
    "START = 14 #Cutting off initial due to outlier data\n",
    "TRAIN_SPLIT = 169\n",
    "\n",
    "\n",
    "X_train, y_train = create_lstm_data(dataset, \"MHV\", \n",
    "                                                START, TRAIN_SPLIT, history_size,\n",
    "                                                target_size, STEP)\n",
    "X_test, y_test = create_lstm_data(dataset, \"MHV\",\n",
    "                                                TRAIN_SPLIT, None, history_size,\n",
    "                                                target_size, STEP)"
   ]
  },
  {
   "cell_type": "code",
   "execution_count": 15,
   "metadata": {},
   "outputs": [
    {
     "data": {
      "text/plain": [
       "(8580, 12, 34)"
      ]
     },
     "execution_count": 15,
     "metadata": {},
     "output_type": "execute_result"
    }
   ],
   "source": [
    "X_train.shape"
   ]
  },
  {
   "cell_type": "code",
   "execution_count": 16,
   "metadata": {},
   "outputs": [
    {
     "data": {
      "text/plain": [
       "(1680, 12, 34)"
      ]
     },
     "execution_count": 16,
     "metadata": {},
     "output_type": "execute_result"
    }
   ],
   "source": [
    "X_test.shape"
   ]
  },
  {
   "cell_type": "code",
   "execution_count": 40,
   "metadata": {},
   "outputs": [],
   "source": [
    "#Create TensorFlow dataset, shuffle, and batch\n",
    "tf.set_random_seed(44)\n",
    "\n",
    "BATCH_SIZE = 32\n",
    "BUFFER_SIZE = 12000\n",
    "\n",
    "train_data = tf.data.Dataset.from_tensor_slices((X_train, y_train))\n",
    "train_data = train_data.cache().shuffle(BUFFER_SIZE).batch(BATCH_SIZE).repeat()\n",
    "\n",
    "test_data = tf.data.Dataset.from_tensor_slices((X_test, y_test))\n",
    "test_data = test_data.batch(BATCH_SIZE).repeat()"
   ]
  },
  {
   "cell_type": "code",
   "execution_count": 43,
   "metadata": {},
   "outputs": [],
   "source": [
    "#Create model\n",
    "first_model = tf.keras.models.Sequential()\n",
    "first_model.add(tf.keras.layers.LSTM(4,\n",
    "                                    input_shape=X_train.shape[-2:],\n",
    "                                    dropout = 0.))\n",
    "first_model.add(tf.keras.layers.Dense(1))\n",
    " \n",
    "first_model.compile(optimizer=tf.keras.optimizers.Adam(), loss='mse')       "
   ]
  },
  {
   "cell_type": "code",
   "execution_count": 57,
   "metadata": {},
   "outputs": [
    {
     "name": "stdout",
     "output_type": "stream",
     "text": [
      "Epoch 1/20\n",
      "53/53 [==============================] - 0s 8ms/step - loss: 0.0070\n",
      "270/270 [==============================] - 5s 20ms/step - loss: 2.1600e-04 - val_loss: 0.0070\n",
      "Epoch 2/20\n",
      "53/53 [==============================] - 0s 3ms/step - loss: 0.0060\n",
      "270/270 [==============================] - 4s 16ms/step - loss: 2.4894e-04 - val_loss: 0.0060\n",
      "Epoch 3/20\n",
      "53/53 [==============================] - 0s 3ms/step - loss: 0.0061\n",
      "270/270 [==============================] - 4s 16ms/step - loss: 2.2356e-04 - val_loss: 0.0061\n",
      "Epoch 4/20\n",
      "53/53 [==============================] - 0s 3ms/step - loss: 0.0061\n",
      "270/270 [==============================] - 4s 16ms/step - loss: 2.0183e-04 - val_loss: 0.0061\n",
      "Epoch 5/20\n",
      "53/53 [==============================] - 0s 4ms/step - loss: 0.0064\n",
      "270/270 [==============================] - 4s 16ms/step - loss: 1.9785e-04 - val_loss: 0.0064\n",
      "Epoch 6/20\n",
      "53/53 [==============================] - 0s 3ms/step - loss: 0.0060\n",
      "270/270 [==============================] - 4s 16ms/step - loss: 2.3108e-04 - val_loss: 0.0060\n",
      "Epoch 7/20\n",
      "53/53 [==============================] - 0s 4ms/step - loss: 0.0061\n",
      "270/270 [==============================] - 4s 16ms/step - loss: 2.2461e-04 - val_loss: 0.0061\n",
      "Epoch 8/20\n",
      "53/53 [==============================] - 0s 3ms/step - loss: 0.0063\n",
      "270/270 [==============================] - 4s 16ms/step - loss: 2.3420e-04 - val_loss: 0.0063\n",
      "Epoch 9/20\n",
      "53/53 [==============================] - 0s 3ms/step - loss: 0.0093\n",
      "270/270 [==============================] - 4s 16ms/step - loss: 2.1952e-04 - val_loss: 0.0093\n",
      "Epoch 10/20\n",
      "53/53 [==============================] - 0s 4ms/step - loss: 0.0062\n",
      "270/270 [==============================] - 4s 16ms/step - loss: 2.3633e-04 - val_loss: 0.0062\n",
      "Epoch 11/20\n",
      "53/53 [==============================] - 0s 3ms/step - loss: 0.0065\n",
      "270/270 [==============================] - 4s 16ms/step - loss: 2.1031e-04 - val_loss: 0.0065\n",
      "Epoch 12/20\n",
      "53/53 [==============================] - 0s 4ms/step - loss: 0.0057\n",
      "270/270 [==============================] - 4s 16ms/step - loss: 2.2774e-04 - val_loss: 0.0057\n",
      "Epoch 13/20\n",
      "53/53 [==============================] - 0s 3ms/step - loss: 0.0060\n",
      "270/270 [==============================] - 4s 16ms/step - loss: 2.0907e-04 - val_loss: 0.0060\n",
      "Epoch 14/20\n",
      "53/53 [==============================] - 0s 4ms/step - loss: 0.0068\n",
      "270/270 [==============================] - 4s 16ms/step - loss: 2.0834e-04 - val_loss: 0.0068\n",
      "Epoch 15/20\n",
      "53/53 [==============================] - 0s 4ms/step - loss: 0.0062\n",
      "270/270 [==============================] - 4s 16ms/step - loss: 2.1304e-04 - val_loss: 0.0062\n",
      "Epoch 16/20\n",
      "53/53 [==============================] - 0s 4ms/step - loss: 0.0073\n",
      "270/270 [==============================] - 4s 16ms/step - loss: 1.9927e-04 - val_loss: 0.0073\n",
      "Epoch 17/20\n",
      "53/53 [==============================] - 0s 4ms/step - loss: 0.0059\n",
      "270/270 [==============================] - 4s 17ms/step - loss: 2.2454e-04 - val_loss: 0.0059\n",
      "Epoch 18/20\n",
      "53/53 [==============================] - 0s 4ms/step - loss: 0.0053\n",
      "270/270 [==============================] - 4s 17ms/step - loss: 2.1113e-04 - val_loss: 0.0053\n",
      "Epoch 19/20\n",
      "53/53 [==============================] - 0s 4ms/step - loss: 0.0067\n",
      "270/270 [==============================] - 4s 16ms/step - loss: 2.0325e-04 - val_loss: 0.0067\n",
      "Epoch 20/20\n",
      "53/53 [==============================] - 0s 4ms/step - loss: 0.0063\n",
      "270/270 [==============================] - 4s 16ms/step - loss: 2.2310e-04 - val_loss: 0.0063\n"
     ]
    }
   ],
   "source": [
    "#Run model (ran model for approximately 80 epochs before this)\n",
    "EPOCHS = 20\n",
    "tf.set_random_seed(42)\n",
    "first_model_history = first_model.fit(train_data, epochs=EPOCHS, steps_per_epoch=270,\n",
    "                                            validation_data=test_data, validation_steps=53)"
   ]
  },
  {
   "cell_type": "code",
   "execution_count": 34,
   "metadata": {},
   "outputs": [],
   "source": [
    "#Define function for plotting training and validation loss history\n",
    "def plot_train_history(history, title):\n",
    "  loss = history.history['loss']\n",
    "  val_loss = history.history['val_loss']\n",
    "\n",
    "  epochs = range(len(loss))\n",
    "\n",
    "  plt.figure()\n",
    "\n",
    "  plt.plot(epochs, loss, 'b', label='Training loss')\n",
    "  plt.plot(epochs, val_loss, 'r', label='Validation loss')\n",
    "  plt.title(title)\n",
    "  plt.legend()\n",
    "\n",
    "  plt.show()"
   ]
  },
  {
   "cell_type": "code",
   "execution_count": 97,
   "metadata": {},
   "outputs": [
    {
     "data": {
      "image/png": "[encoded data removed]",
      "text/plain": [
       "<Figure size 432x288 with 1 Axes>"
      ]
     },
     "metadata": {
      "needs_background": "light"
     },
     "output_type": "display_data"
    }
   ],
   "source": [
    "plot_train_history(first_model_history,\n",
    "                   'Training and validation loss')"
   ]
  },
  {
   "cell_type": "markdown",
   "metadata": {},
   "source": [
    "One can see at this point that the validation loss has just about flattened out, so we will stop here so we don't overfit the model"
   ]
  },
  {
   "cell_type": "code",
   "execution_count": 65,
   "metadata": {},
   "outputs": [
    {
     "name": "stdout",
     "output_type": "stream",
     "text": [
      "53/53 [==============================] - 0s 4ms/step - loss: 0.0063\n"
     ]
    },
    {
     "data": {
      "text/plain": [
       "0.00633108001688324"
      ]
     },
     "execution_count": 65,
     "metadata": {},
     "output_type": "execute_result"
    }
   ],
   "source": [
    "first_model.evaluate(test_data, steps=53)"
   ]
  },
  {
   "cell_type": "markdown",
   "metadata": {},
   "source": [
    "The mean squared error achieved was 0.0063, however these are in standardized units"
   ]
  },
  {
   "cell_type": "code",
   "execution_count": 77,
   "metadata": {},
   "outputs": [
    {
     "data": {
      "text/html": [
       "<div>\n",
       "<style scoped>\n",
       "    .dataframe tbody tr th:only-of-type {\n",
       "        vertical-align: middle;\n",
       "    }\n",
       "\n",
       "    .dataframe tbody tr th {\n",
       "        vertical-align: top;\n",
       "    }\n",
       "\n",
       "    .dataframe thead th {\n",
       "        text-align: right;\n",
       "    }\n",
       "</style>\n",
       "<table border=\"1\" class=\"dataframe\">\n",
       "  <thead>\n",
       "    <tr style=\"text-align: right;\">\n",
       "      <th></th>\n",
       "      <th>true</th>\n",
       "      <th>last</th>\n",
       "      <th>pred</th>\n",
       "      <th>pred hi low</th>\n",
       "      <th>real hi low</th>\n",
       "      <th>correct</th>\n",
       "      <th>real dif</th>\n",
       "      <th>pred dif</th>\n",
       "      <th>ae</th>\n",
       "      <th>se</th>\n",
       "      <th>true trans</th>\n",
       "      <th>pred trans</th>\n",
       "      <th>ae trans</th>\n",
       "    </tr>\n",
       "  </thead>\n",
       "  <tbody>\n",
       "    <tr>\n",
       "      <th>count</th>\n",
       "      <td>1680.000000</td>\n",
       "      <td>1680.000000</td>\n",
       "      <td>1680.000000</td>\n",
       "      <td>1680.000000</td>\n",
       "      <td>1680.000000</td>\n",
       "      <td>1680.000000</td>\n",
       "      <td>1680.000000</td>\n",
       "      <td>1680.000000</td>\n",
       "      <td>1680.000000</td>\n",
       "      <td>1.680000e+03</td>\n",
       "      <td>1680.000000</td>\n",
       "      <td>1680.000000</td>\n",
       "      <td>1680.000000</td>\n",
       "    </tr>\n",
       "    <tr>\n",
       "      <th>mean</th>\n",
       "      <td>0.276702</td>\n",
       "      <td>0.270288</td>\n",
       "      <td>0.275983</td>\n",
       "      <td>0.754167</td>\n",
       "      <td>0.578571</td>\n",
       "      <td>0.650595</td>\n",
       "      <td>0.014427</td>\n",
       "      <td>0.035546</td>\n",
       "      <td>0.033713</td>\n",
       "      <td>6.389176e-03</td>\n",
       "      <td>228.174861</td>\n",
       "      <td>228.113385</td>\n",
       "      <td>2.883694</td>\n",
       "    </tr>\n",
       "    <tr>\n",
       "      <th>std</th>\n",
       "      <td>1.277126</td>\n",
       "      <td>1.275056</td>\n",
       "      <td>1.265737</td>\n",
       "      <td>0.430708</td>\n",
       "      <td>0.493935</td>\n",
       "      <td>0.476924</td>\n",
       "      <td>0.013067</td>\n",
       "      <td>0.071658</td>\n",
       "      <td>0.072497</td>\n",
       "      <td>3.199711e-02</td>\n",
       "      <td>109.241765</td>\n",
       "      <td>108.267579</td>\n",
       "      <td>6.201154</td>\n",
       "    </tr>\n",
       "    <tr>\n",
       "      <th>min</th>\n",
       "      <td>-1.508192</td>\n",
       "      <td>-1.508192</td>\n",
       "      <td>-1.476324</td>\n",
       "      <td>0.000000</td>\n",
       "      <td>0.000000</td>\n",
       "      <td>0.000000</td>\n",
       "      <td>0.000000</td>\n",
       "      <td>0.000024</td>\n",
       "      <td>0.000006</td>\n",
       "      <td>3.189496e-11</td>\n",
       "      <td>75.500000</td>\n",
       "      <td>78.225942</td>\n",
       "      <td>0.000483</td>\n",
       "    </tr>\n",
       "    <tr>\n",
       "      <th>25%</th>\n",
       "      <td>-0.634303</td>\n",
       "      <td>-0.641610</td>\n",
       "      <td>-0.632819</td>\n",
       "      <td>1.000000</td>\n",
       "      <td>0.000000</td>\n",
       "      <td>0.000000</td>\n",
       "      <td>0.005845</td>\n",
       "      <td>0.007037</td>\n",
       "      <td>0.005533</td>\n",
       "      <td>3.061412e-05</td>\n",
       "      <td>150.250000</td>\n",
       "      <td>150.377016</td>\n",
       "      <td>0.473277</td>\n",
       "    </tr>\n",
       "    <tr>\n",
       "      <th>50%</th>\n",
       "      <td>0.043764</td>\n",
       "      <td>0.040841</td>\n",
       "      <td>0.012976</td>\n",
       "      <td>1.000000</td>\n",
       "      <td>1.000000</td>\n",
       "      <td>1.000000</td>\n",
       "      <td>0.011691</td>\n",
       "      <td>0.016172</td>\n",
       "      <td>0.013395</td>\n",
       "      <td>1.794162e-04</td>\n",
       "      <td>208.250000</td>\n",
       "      <td>205.616479</td>\n",
       "      <td>1.145739</td>\n",
       "    </tr>\n",
       "    <tr>\n",
       "      <th>75%</th>\n",
       "      <td>0.760314</td>\n",
       "      <td>0.757878</td>\n",
       "      <td>0.756284</td>\n",
       "      <td>1.000000</td>\n",
       "      <td>1.000000</td>\n",
       "      <td>1.000000</td>\n",
       "      <td>0.023382</td>\n",
       "      <td>0.032211</td>\n",
       "      <td>0.028198</td>\n",
       "      <td>7.951446e-04</td>\n",
       "      <td>269.541667</td>\n",
       "      <td>269.196935</td>\n",
       "      <td>2.412004</td>\n",
       "    </tr>\n",
       "    <tr>\n",
       "      <th>max</th>\n",
       "      <td>4.265125</td>\n",
       "      <td>4.261228</td>\n",
       "      <td>3.960614</td>\n",
       "      <td>1.000000</td>\n",
       "      <td>1.000000</td>\n",
       "      <td>1.000000</td>\n",
       "      <td>0.105217</td>\n",
       "      <td>0.538217</td>\n",
       "      <td>0.538217</td>\n",
       "      <td>2.896778e-01</td>\n",
       "      <td>569.333333</td>\n",
       "      <td>543.286380</td>\n",
       "      <td>46.037590</td>\n",
       "    </tr>\n",
       "  </tbody>\n",
       "</table>\n",
       "</div>"
      ],
      "text/plain": [
       "              true         last         pred  pred hi low  real hi low  \\\n",
       "count  1680.000000  1680.000000  1680.000000  1680.000000  1680.000000   \n",
       "mean      0.276702     0.270288     0.275983     0.754167     0.578571   \n",
       "std       1.277126     1.275056     1.265737     0.430708     0.493935   \n",
       "min      -1.508192    -1.508192    -1.476324     0.000000     0.000000   \n",
       "25%      -0.634303    -0.641610    -0.632819     1.000000     0.000000   \n",
       "50%       0.043764     0.040841     0.012976     1.000000     1.000000   \n",
       "75%       0.760314     0.757878     0.756284     1.000000     1.000000   \n",
       "max       4.265125     4.261228     3.960614     1.000000     1.000000   \n",
       "\n",
       "           correct     real dif     pred dif           ae            se  \\\n",
       "count  1680.000000  1680.000000  1680.000000  1680.000000  1.680000e+03   \n",
       "mean      0.650595     0.014427     0.035546     0.033713  6.389176e-03   \n",
       "std       0.476924     0.013067     0.071658     0.072497  3.199711e-02   \n",
       "min       0.000000     0.000000     0.000024     0.000006  3.189496e-11   \n",
       "25%       0.000000     0.005845     0.007037     0.005533  3.061412e-05   \n",
       "50%       1.000000     0.011691     0.016172     0.013395  1.794162e-04   \n",
       "75%       1.000000     0.023382     0.032211     0.028198  7.951446e-04   \n",
       "max       1.000000     0.105217     0.538217     0.538217  2.896778e-01   \n",
       "\n",
       "        true trans   pred trans     ae trans  \n",
       "count  1680.000000  1680.000000  1680.000000  \n",
       "mean    228.174861   228.113385     2.883694  \n",
       "std     109.241765   108.267579     6.201154  \n",
       "min      75.500000    78.225942     0.000483  \n",
       "25%     150.250000   150.377016     0.473277  \n",
       "50%     208.250000   205.616479     1.145739  \n",
       "75%     269.541667   269.196935     2.412004  \n",
       "max     569.333333   543.286380    46.037590  "
      ]
     },
     "execution_count": 77,
     "metadata": {},
     "output_type": "execute_result"
    }
   ],
   "source": [
    "#Create dataframe to observe results of the model\n",
    "\n",
    "pred = []\n",
    "true = []\n",
    "last = []\n",
    "    \n",
    "for x, y in test_data.take(90):\n",
    "    predictions = first_model.predict(x.numpy())\n",
    "    labels = y.numpy()\n",
    "    for i, a in enumerate(x.numpy()):\n",
    "        pred.append(predictions[i][0])\n",
    "        true.append(labels[i])\n",
    "        last.append(a[:,33][-1])\n",
    "    \n",
    "df = pd.DataFrame()\n",
    "df[\"true\"] = true\n",
    "df[\"last\"] = last\n",
    "df[\"pred\"] = pred\n",
    "\n",
    "df[\"pred hi low\"] = df.apply(lambda row: 1 if row[\"pred\"] > row[\"last\"] else 0, axis=1)\n",
    "df[\"real hi low\"] = df.apply(lambda row: 1 if row[\"true\"] > row[\"last\"] else 0, axis=1)\n",
    "df[\"correct\"] = df.apply(lambda row: 1 if row[\"pred hi low\"] == row[\"real hi low\"] else 0, axis=1)\n",
    "df[\"real dif\"] = abs(df[\"true\"] - df[\"last\"])\n",
    "df[\"pred dif\"] = abs(df[\"pred\"] - df[\"last\"])\n",
    "df[\"ae\"] = abs(df[\"pred\"] - df[\"true\"])\n",
    "df[\"se\"] = df[\"ae\"] ** 2\n",
    "\n",
    "#Translate back to non-standardized units\n",
    "df[\"true trans\"] = (df[\"true\"] * data_std[\"MHV\"]) + data_mean[\"MHV\"]\n",
    "df[\"pred trans\"] = (df[\"pred\"] * data_std[\"MHV\"]) + data_mean[\"MHV\"]\n",
    "df[\"ae trans\"] = abs(df[\"pred trans\"] - df[\"true trans\"])\n",
    "\n",
    "df.drop_duplicates([\"pred\", \"last\", \"true\"], inplace=True)\n",
    "\n",
    "df.describe()"
   ]
  },
  {
   "cell_type": "code",
   "execution_count": 60,
   "metadata": {},
   "outputs": [
    {
     "data": {
      "text/plain": [
       "6.837186249992263"
      ]
     },
     "execution_count": 60,
     "metadata": {},
     "output_type": "execute_result"
    }
   ],
   "source": [
    "#Mean Squared Error of model\n",
    "np.sqrt(mean_squared_error(df[\"true trans\"], df[\"pred trans\"]))"
   ]
  },
  {
   "cell_type": "code",
   "execution_count": 101,
   "metadata": {},
   "outputs": [
    {
     "data": {
      "text/plain": [
       "57.85714285714286"
      ]
     },
     "execution_count": 101,
     "metadata": {},
     "output_type": "execute_result"
    }
   ],
   "source": [
    "#Baseline % Directionality (% of time housing value moves upward in test set)\n",
    "df[\"real hi low\"].mean() * 100"
   ]
  },
  {
   "cell_type": "code",
   "execution_count": 102,
   "metadata": {},
   "outputs": [
    {
     "data": {
      "text/plain": [
       "65.05952380952381"
      ]
     },
     "execution_count": 102,
     "metadata": {},
     "output_type": "execute_result"
    }
   ],
   "source": [
    "# % Directionality of model\n",
    "df[\"correct\"].mean() * 100"
   ]
  },
  {
   "cell_type": "markdown",
   "metadata": {},
   "source": [
    "Here we see the % directionality performs slightly better than baseline, but not much better than any of the previous models. In addition, with an RMSE of 6.84, it is the worst performing of all the models by this standard."
   ]
  },
  {
   "cell_type": "markdown",
   "metadata": {},
   "source": [
    "Here I will define functions for plotting examples of the models performance:"
   ]
  },
  {
   "cell_type": "code",
   "execution_count": 62,
   "metadata": {},
   "outputs": [],
   "source": [
    "def create_time_steps(length):\n",
    "  time_steps = []\n",
    "  for i in range(-length, 0, 1):\n",
    "    time_steps.append(i)\n",
    "  return time_steps"
   ]
  },
  {
   "cell_type": "code",
   "execution_count": 63,
   "metadata": {},
   "outputs": [],
   "source": [
    "def show_plot(plot_data, delta, title):\n",
    "  labels = ['History', 'True Future', 'Model Prediction']\n",
    "  marker = ['.-', 'rx', 'go']\n",
    "  time_steps = create_time_steps(plot_data[0].shape[0])\n",
    "  if delta:\n",
    "    future = delta\n",
    "  else:\n",
    "    future = 0\n",
    "\n",
    "  plt.title(title)\n",
    "  for i, x in enumerate(plot_data):\n",
    "    if i:\n",
    "      plt.plot(future, plot_data[i], marker[i], markersize=10,\n",
    "               label=labels[i])\n",
    "    else:\n",
    "      plt.plot(time_steps, plot_data[i].flatten(), marker[i], label=labels[i])\n",
    "  plt.legend()\n",
    "  plt.xlim([time_steps[0], (future+5)*2])\n",
    "  plt.xlabel('Time-Step')\n",
    "  return plt"
   ]
  },
  {
   "cell_type": "code",
   "execution_count": 84,
   "metadata": {},
   "outputs": [
    {
     "data": {
      "image/png": "[encoded data removed]",
      "text/plain": [
       "<Figure size 432x288 with 1 Axes>"
      ]
     },
     "metadata": {
      "needs_background": "light"
     },
     "output_type": "display_data"
    },
    {
     "data": {
      "image/png": "[encoded data removed]",
      "text/plain": [
       "<Figure size 432x288 with 1 Axes>"
      ]
     },
     "metadata": {
      "needs_background": "light"
     },
     "output_type": "display_data"
    },
    {
     "data": {
      "image/png": "[encoded data removed]",
      "text/plain": [
       "<Figure size 432x288 with 1 Axes>"
      ]
     },
     "metadata": {
      "needs_background": "light"
     },
     "output_type": "display_data"
    },
    {
     "data": {
      "image/png": "[encoded data removed]",
      "text/plain": [
       "<Figure size 432x288 with 1 Axes>"
      ]
     },
     "metadata": {
      "needs_background": "light"
     },
     "output_type": "display_data"
    },
    {
     "data": {
      "image/png": "[encoded data removed]",
      "text/plain": [
       "<Figure size 432x288 with 1 Axes>"
      ]
     },
     "metadata": {
      "needs_background": "light"
     },
     "output_type": "display_data"
    },
    {
     "data": {
      "image/png": "[encoded data removed]",
      "text/plain": [
       "<Figure size 432x288 with 1 Axes>"
      ]
     },
     "metadata": {
      "needs_background": "light"
     },
     "output_type": "display_data"
    },
    {
     "data": {
      "image/png": "[encoded data removed]",
      "text/plain": [
       "<Figure size 432x288 with 1 Axes>"
      ]
     },
     "metadata": {
      "needs_background": "light"
     },
     "output_type": "display_data"
    },
    {
     "data": {
      "image/png": "[encoded data removed]",
      "text/plain": [
       "<Figure size 432x288 with 1 Axes>"
      ]
     },
     "metadata": {
      "needs_background": "light"
     },
     "output_type": "display_data"
    },
    {
     "data": {
      "image/png": "[encoded data removed]",
      "text/plain": [
       "<Figure size 432x288 with 1 Axes>"
      ]
     },
     "metadata": {
      "needs_background": "light"
     },
     "output_type": "display_data"
    },
    {
     "data": {
      "image/png": "[encoded data removed]",
      "text/plain": [
       "<Figure size 432x288 with 1 Axes>"
      ]
     },
     "metadata": {
      "needs_background": "light"
     },
     "output_type": "display_data"
    }
   ],
   "source": [
    "#Plot some examples\n",
    "i = 9\n",
    "for x, y in test_data.take(10):\n",
    "    plot = show_plot([x.numpy()[i][:,33], y.numpy()[i],\n",
    "                    first_model.predict(x.numpy())[i]], 0,\n",
    "                   \"\")\n",
    "    plot.show()"
   ]
  },
  {
   "cell_type": "markdown",
   "metadata": {},
   "source": [
    "By observing some examples, we can see that the model often predicts fairly well, but other times it is extremely off. Perhaps with more time and tuning of the parameters of the model we could achieve better results"
   ]
  },
  {
   "cell_type": "code",
   "execution_count": null,
   "metadata": {},
   "outputs": [],
   "source": []
  }
 ],
 "metadata": {
  "kernelspec": {
   "display_name": "Python 3",
   "language": "python",
   "name": "python3"
  },
  "language_info": {
   "codemirror_mode": {
    "name": "ipython",
    "version": 3
   },
   "file_extension": ".py",
   "mimetype": "text/x-python",
   "name": "python",
   "nbconvert_exporter": "python",
   "pygments_lexer": "ipython3",
   "version": "3.7.1"
  }
 },
 "nbformat": 4,
 "nbformat_minor": 2
}
